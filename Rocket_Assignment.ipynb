{
 "cells": [
  {
   "cell_type": "markdown",
   "metadata": {},
   "source": [
    "###### Content under Creative Commons Attribution license CC-BY 4.0, code under MIT license (c)2014 L.A. Barba, G.F. Forsyth."
   ]
  },
  {
   "cell_type": "markdown",
   "metadata": {},
   "source": [
    "# Coding Assignment: Rocket"
   ]
  },
  {
   "cell_type": "markdown",
   "metadata": {},
   "source": [
    "The equations of motion for a rocket in purely vertical flight are given by\n",
    "\n",
    "\\begin{align}\n",
    "\\frac{dh}{dt} &= v\\\\\n",
    "(m_s+m_p) \\frac{dv}{dt}& = -(m_s+m_p)g + \\dot{m}_pv_e - \\frac{1}{2}\\rho v|v|AC_D\n",
    "\\end{align}\n",
    "\n",
    "$h$ is the altitude of the rocket\n",
    "\n",
    "$m_s = 50kg$ is the weight of the rocket shell\n",
    "\n",
    "$g = 9.81 \\frac{m}{s^2}$\n",
    "\n",
    "$\\rho = 1.091 \\frac{kg}{m^3}$ is the average air density (assumed constant throughout flight)\n",
    "\n",
    "$A = \\pi r^2$ is the maximum cross sectional area of the rocket, where $r = 0.5 m$\n",
    "\n",
    "$v_e = 325 \\frac{m}{s}$ is the exhaust speed\n",
    "\n",
    "$C_D = 0.15 $ is the drag coefficient\n",
    "\n",
    "$m_{po} = 100 kg$ at time $t = 0$ is the initial weight of the rocket propellant\n",
    "\n",
    "The mass of the remaining propellant is given by:\n",
    "\n",
    "$$m_p = m_{po} - \\int^t_0 \\dot{m}_p d\\tau$$\n",
    "\n",
    "where $\\dot{m}_p$ is the time-varying burn rate given by the following figure:\n",
    "\n",
    "Propellant Burn Rate\n",
    "\n",
    "![burn rate](./burn.rate.png)\n",
    "\n",
    "Using Euler's method with a timestep of $\\Delta t=0.1s$, create a Python script to calculate the altitude and velocity of the rocket from launch until crash down.  \n",
    "\n",
    "\n",
    "\n",
    "\n"
   ]
  },
  {
   "cell_type": "markdown",
   "metadata": {},
   "source": [
    "## Assessment:\n",
    "\n",
    "To check your answers, you can register for [MAE 6286: Practical Numerical Methods with Python](http://openedx.seas.gwu.edu/courses/GW/MAE6286/2014_fall/about).\n",
    "\n",
    "1. At time $t=3.2s$, what is the mass (in kg) of rocket propellant remaining in the rocket?\n",
    "\n",
    "2. What is the maximum speed of the rocket in $\\frac{m}{s}$?\n",
    "    At what time does this occur (in seconds)? \n",
    "    What is the altitude at this time (in meters)? \n",
    "    \n",
    "3. What is the rocket's maximum altitude during flight (in meters)? At what time (in seconds) does this occur?\n",
    "\n",
    "4. At what time (in seconds) does the rocket impact the ground? What is the velocity of the rocket (in $\\frac{m}{s}$) at time of impact?"
   ]
  },
  {
   "cell_type": "markdown",
   "metadata": {},
   "source": [
    "## Derivation of the rocket equations"
   ]
  },
  {
   "cell_type": "markdown",
   "metadata": {},
   "source": [
    "In case you are kind of confused about the rocket equations, here we show how to get to them. \n",
    "\n",
    "Newton's second law states that the acceleration of the vehicle times its mass is equal to all the forces acting on it. Therefore,\n",
    "\n",
    "\\begin{equation}\n",
    "(m_s + m_p)\\frac{d\\bf{v}}{dt}=\\sum {\\bf F}.\n",
    "\\end{equation}\n",
    "In the above formula we have assumed that the propellant inside the rocket and the rocket move at the same velocity (in other words, their relative velocity is negligible). \n",
    "\n",
    "Two of the external forces acting on the rocket are,\n",
    "\n",
    "\\begin{align}\n",
    "{\\bf F}_g&= (m_s+m_p)\\bf{g} \\quad (\\rm{Gravity}),\\\\\n",
    "{\\bf F}_d&= - \\frac{1}{2} \\rho_a \\mathbf{v} |\\mathbf{v}| A  C_D \\quad (\\rm{Drag}).\n",
    "\\end{align}\n",
    "\n",
    "We also need to consider the force resulting from the ejection of the propellant. During an interval $dt$, the engine of the rocket ejects downwards a mass of propellant given by $\\dot m_p dt$. Relative to the rocket, the speed of the ejected burning gas is assumed constant and equal to $v_e$ (the exhaust speed). The momentum variation induced on the exhaust gas by the engine during that interval is therefore, $d{\\bf p}_{gas} = \\dot m_p {\\bf v}_e dt$. Again using Newton's second law we conclude that the force applied by the rocket on the gas is,\n",
    "\n",
    "\\begin{align}\n",
    "{\\bf F}_{rocket\\rightarrow gas} = \\frac{d{\\bf p}_{gas}}{dt} = \\dot m_p {\\bf v}_e\n",
    "\\end{align}\n",
    "\n",
    "Using Newton's third law (|action| = |reaction|), the force exerted by the exhaust gas on the rocket is then,\n",
    "\n",
    "\\begin{align}\n",
    "{\\bf F}_{gas\\rightarrow rocket} = -{\\bf F}_{rocket\\rightarrow gas} = -\\dot m_p {\\bf v}_e\n",
    "\\end{align}\n",
    "\n",
    "If we collect all the forces acting on the rocket we finally have:\n",
    "\n",
    "\\begin{align}\n",
    "(m_s + m_p)\\frac{d\\bf{v}}{dt}=(m_s+m_p){\\bf g}- \\frac{1}{2} \\rho_a \\mathbf{v} |v| A  C_D -\\dot m_p {\\bf v}_e\n",
    "\\end{align}\n",
    "\n"
   ]
  },
  {
   "cell_type": "markdown",
   "metadata": {},
   "source": [
    "---"
   ]
  },
  {
   "cell_type": "markdown",
   "metadata": {},
   "source": [
    "# Résolution du $1^{er}$ Devoir : Le vol d'une fusée"
   ]
  },
  {
   "cell_type": "markdown",
   "metadata": {},
   "source": [
    "L'approximation d'une équation différentielle par la méthode d'Euler permet de résoudre simplement un ensemble \n",
    "d'équations différentielles. Il suffit simplement de connaitre les conditions initiales du problème. \n",
    "\n",
    "Ici, les variables à considèrer sont la vitesse verticale ($v_t$), la masse d'essence ($m_p$) et enfin \n",
    "la hauteur ($y$). \n",
    "Nos 3 équations différentielles sont les évolutions temporelles de ces variables. Respectivement:"
   ]
  },
  {
   "cell_type": "markdown",
   "metadata": {},
   "source": [
    "\\\\begin{align}\n",
    "    u & = \\\\begin{pmatrix} v_t \\\\\\\\ m_p \\\\\\\\ y \\\\end{pmatrix} & f(u) & = \\\\begin{pmatrix} \\frac{-(m_s+m_p)g+\\dot{m_p}v_e-\\frac12\\rho v_t|v_t|AC_D}{m_s+m_p} \\\\\\\\ -dm_p \\\\\\\\ v_t \\\\end{pmatrix}\n",
    "\\\\end{align}"
   ]
  },
  {
   "cell_type": "markdown",
   "metadata": {},
   "source": [
    "Les variables utilisées sont les mêmes que dans l'énoncé du travail, nous avons juste modifié le nom de la variable vitesse $v_t$ et la variable altitude $y$. Nous avons décidé d'inclure la variable $m_p$ dans notre équation $u$ pour répondre efficacement à la question 1 : nous pourrions ainsi calculer la valeur du carburant restant et la verifier en cherchant la valeur de $m_p$ dans $u$ au temps désiré."
   ]
  },
  {
   "cell_type": "code",
   "execution_count": 37,
   "metadata": {
    "collapsed": false
   },
   "outputs": [],
   "source": [
    "from math import sin, cos, log, ceil\n",
    "import numpy\n",
    "from matplotlib import pyplot\n",
    "%matplotlib inline\n",
    "from matplotlib import rcParams\n",
    "rcParams['font.family'] = 'serif'\n",
    "rcParams['font.size'] = 16"
   ]
  },
  {
   "cell_type": "markdown",
   "metadata": {},
   "source": [
    "Nous développons ici la fonction $f(u)$ qui sera utilisée dans la fonction euler_step(u, f, dt)"
   ]
  },
  {
   "cell_type": "code",
   "execution_count": 11,
   "metadata": {
    "collapsed": true
   },
   "outputs": [],
   "source": [
    "def f(u):\n",
    "    \"\"\"Returns the right-hand side of the phugoid system of equations.\n",
    "    \n",
    "    Parameters\n",
    "    ----------\n",
    "    u : array of float\n",
    "        array containing the solution at time n.\n",
    "    \n",
    "        \n",
    "    Returns\n",
    "    -------\n",
    "    dudt : array of float\n",
    "        array containing the RHS given u.\n",
    "    \"\"\"\n",
    "    \n",
    "    v_t = u[0]\n",
    "    mp = u[1]\n",
    "    y = u[2]\n",
    "    return numpy.array([-g+dmp*ve/(ms+mp)-rho*v_t*abs(v_t)*A*C_D/(2*(ms+mp)),\n",
    "                      -dmp,\n",
    "                      v_t])"
   ]
  },
  {
   "cell_type": "code",
   "execution_count": 12,
   "metadata": {
    "collapsed": true
   },
   "outputs": [],
   "source": [
    "def euler_step(u, f, dt):\n",
    "    \"\"\"Returns the solution at the next time-step using Euler's method.\n",
    "    \n",
    "    Parameters\n",
    "    ----------\n",
    "    u : array of float\n",
    "        solution at the previous time-step.\n",
    "    f : function\n",
    "        function to compute the right hand-side of the system of equations.\n",
    "    dt : float\n",
    "        time-increment.\n",
    "    \n",
    "    Returns\n",
    "    -------\n",
    "    u_n_plus_1 : array of float\n",
    "        approximate solution at the next time step.\n",
    "    \"\"\"\n",
    "    return u + dt * f(u)"
   ]
  },
  {
   "cell_type": "markdown",
   "metadata": {},
   "source": [
    "La fonction index_ground(u) nous permet de rechercher,à l'aide de la fonction numpy.where(), l'index du moment où l'altitude de la fusée devient négative. Si jamais l'altitude de la fusée ne devient jamais négative, ce qui correspond au moment où la fusée touche le sol, la fonction envoi un message nous faisant comprendre que la fusée n'a pas encore touché le sol.\n",
    "\n",
    "Nous avons pris soin d'incruster dans la fonction une méthode pour modifier la valeur de l'altitude après l'impact avec le sol. Ces valeurs précédement négative n'avaient pas de sens physique et nous avons donc décidé de les modifier pour correspondre à l'altitude intiale de la fusée, le sol situé à 0m d'altitude."
   ]
  },
  {
   "cell_type": "code",
   "execution_count": 41,
   "metadata": {
    "collapsed": false
   },
   "outputs": [],
   "source": [
    "def index_ground(u):\n",
    "    \"\"\"Returns the index of element of y where altitude becomes negative. For physics consistency the function rewrite\n",
    "    the altitude's value of the rocket after it does hit the ground and set them to 0 since the rocket cannot go underground.\n",
    "    \n",
    "    Parameters\n",
    "    ----------\n",
    "    u : array of float\n",
    "        complete solution of the rocketship trajectory.\n",
    "    \n",
    "    Returns\n",
    "    -------\n",
    "    index : float\n",
    "        the index value where the rocketship's altitude becomes negative\n",
    "    \"\"\"\n",
    "    \n",
    "    idx_negative = numpy.where(u[:,2]<0.0)[0]  # extract the index where the rocketship's altitude becomes negative\n",
    "\n",
    "    if len(idx_negative)==0:\n",
    "        index = N-1\n",
    "        print ('The Rocket has not reached the ground yet!')\n",
    "    else:\n",
    "        index = idx_negative[0]\n",
    "    \n",
    "    for i in range(len(idx_negative)): # altitude's values after index are negative and are so rewritten as zero\n",
    "        u[i+index,2]=0\n",
    "        \n",
    "    return index"
   ]
  },
  {
   "cell_type": "markdown",
   "metadata": {},
   "source": [
    "Toutes les constantes expliquées dans l'énoncé du travail prennent leur valeur ici, ainsi que les valeurs initiales des variables et de la variation de combustible, nécessaire pour la méthode d'Euler."
   ]
  },
  {
   "cell_type": "code",
   "execution_count": 42,
   "metadata": {
    "collapsed": false
   },
   "outputs": [],
   "source": [
    "# model parameters:\n",
    "g = 9.81            # gravity in m s^{-2}\n",
    "v_t = 0.0           # initial velocity in m s^{-1}\n",
    "C_D = 0.15          # drag coefficient\n",
    "rho = 1.091         # average air density in kg m^{-3}\n",
    "ms = 50             # weight of the rocket shell in kg\n",
    "r = 0.5             # radius of the rocket in m\n",
    "A = numpy.pi*r**2   # maximum cross sectional area of the rocket in m^{2}\n",
    "ve = 325            # exhaust speed in m s^{-1}\n",
    "mp = 100            # weight of the rocket propellant in kg\n",
    "\n",
    "### set initial conditions ###\n",
    "v0 = v_t            # starting velocity\n",
    "y0 = 0              # initial altitude\n",
    "mp0 = mp            # initial weight of the rocket propellant in kg\n",
    "dmp = 20            # combustion rate (kg/s)"
   ]
  },
  {
   "cell_type": "code",
   "execution_count": null,
   "metadata": {
    "collapsed": true
   },
   "outputs": [],
   "source": []
  },
  {
   "cell_type": "code",
   "execution_count": 22,
   "metadata": {
    "collapsed": false
   },
   "outputs": [],
   "source": [
    "T = 40                             # final time\n",
    "dt = 0.1                           # time increment\n",
    "N = int(T/dt) + 1                  # number of time-steps\n",
    "timefuelwaste = mp0/dmp            # time of fuel consumption\n",
    "Z = timefuelwaste/dt               # number of steps after wich there is no more rocket propellant\n",
    "t = numpy.linspace(0, T, N)        # time discretization\n",
    "\n",
    "# initialize the array containing the solution for each time-step\n",
    "u = numpy.empty((N, 3))\n",
    "u[0] = numpy.array([v0, mp0, y0])  # fill 1st element with initial values\n",
    "\n",
    "# time loop - Euler method with the given condition on the fuel consumption\n",
    "for n in range(N-1):\n",
    "    if n >= Z :\n",
    "        dmp = 0\n",
    "    u[n+1] = euler_step(u[n], f, dt)"
   ]
  },
  {
   "cell_type": "code",
   "execution_count": 23,
   "metadata": {
    "collapsed": false
   },
   "outputs": [],
   "source": [
    "index = index_ground(u)"
   ]
  },
  {
   "cell_type": "markdown",
   "metadata": {},
   "source": [
    "Etant donné que nous avons pas reçu de message \"The Rocket has not reached the ground yet!\" il semble que notre roquette a bien touché le sol."
   ]
  },
  {
   "cell_type": "code",
   "execution_count": 43,
   "metadata": {
    "collapsed": false
   },
   "outputs": [
    {
     "data": {
      "image/png": "[encoded data removed]",
      "text/plain": [
       "<matplotlib.figure.Figure at 0x10d63fd68>"
      ]
     },
     "metadata": {},
     "output_type": "display_data"
    }
   ],
   "source": [
    "# get the rocket's position with respect to the time\n",
    "y = u[:,2]\n",
    "mp = u[:,1]\n",
    "# visualization of the path\n",
    "pyplot.figure(figsize=(10,5))\n",
    "pyplot.grid(True)\n",
    "pyplot.xlabel('$t$')\n",
    "pyplot.ylabel('$h$')\n",
    "pyplot.title('Rocket trajectory, flight time = %.2f' % T, fontsize=18)\n",
    "pyplot.plot(t,y, color='k');"
   ]
  },
  {
   "cell_type": "code",
   "execution_count": 44,
   "metadata": {
    "collapsed": false
   },
   "outputs": [
    {
     "data": {
      "image/png": "[encoded data removed]",
      "text/plain": [
       "<matplotlib.figure.Figure at 0x10dedac18>"
      ]
     },
     "metadata": {},
     "output_type": "display_data"
    }
   ],
   "source": [
    "# visualization of the path\n",
    "pyplot.figure(figsize=(10,5))\n",
    "pyplot.grid(True)\n",
    "pyplot.xlabel('$t$')\n",
    "pyplot.ylabel('$mp$')\n",
    "pyplot.xlim(0.0,T)\n",
    "pyplot.ylim(0.0,mp0)\n",
    "pyplot.title('Rocket fuel, flight time = %.2f' % T, fontsize=18)\n",
    "pyplot.plot(t,mp, color='k');"
   ]
  },
  {
   "cell_type": "markdown",
   "metadata": {},
   "source": [
    "### At time $t=3.2s$ , what is the mass (in kg) of rocket propellant remaining in the rocket?"
   ]
  },
  {
   "cell_type": "markdown",
   "metadata": {},
   "source": [
    "Pour les 3.2 sec de fuel on peut les faire directement par calcul (mp0-dmp.temps) et vérifier que nous avons la même donnée dans notre simulation."
   ]
  },
  {
   "cell_type": "code",
   "execution_count": 26,
   "metadata": {
    "collapsed": false
   },
   "outputs": [
    {
     "data": {
      "text/plain": [
       "36.0"
      ]
     },
     "execution_count": 26,
     "metadata": {},
     "output_type": "execute_result"
    }
   ],
   "source": [
    "mp0-20*3.2"
   ]
  },
  {
   "cell_type": "markdown",
   "metadata": {},
   "source": [
    "Nous cherchons donc la valeur de mp après 3,2 secondes, donc la 32ème valeur de mp dans u"
   ]
  },
  {
   "cell_type": "code",
   "execution_count": 27,
   "metadata": {
    "collapsed": false
   },
   "outputs": [
    {
     "name": "stdout",
     "output_type": "stream",
     "text": [
      "36.0\n"
     ]
    }
   ],
   "source": [
    "print(u[32,1])"
   ]
  },
  {
   "cell_type": "markdown",
   "metadata": {},
   "source": [
    "### What is the maximum speed of the rocket in $m.s^{-1}$? At what time does this occur (in seconds)? What is the altitude at this time (in meters)?"
   ]
  },
  {
   "cell_type": "markdown",
   "metadata": {},
   "source": [
    "Il suffit de chercher où est la valeur maximale de u[:,0], la composante vitesse de u"
   ]
  },
  {
   "cell_type": "code",
   "execution_count": 28,
   "metadata": {
    "collapsed": false,
    "scrolled": true
   },
   "outputs": [
    {
     "data": {
      "text/plain": [
       "50"
      ]
     },
     "execution_count": 28,
     "metadata": {},
     "output_type": "execute_result"
    }
   ],
   "source": [
    "numpy.where(u[:,0]==max(u[:,0]))[0][0]"
   ]
  },
  {
   "cell_type": "markdown",
   "metadata": {},
   "source": [
    "Ce qui nous dit que la valeur maximale est atteinte à la 50ème valeur, qui représente donc 5 secondes. Nous cherchons après la valeur correspondante de l'altitude, deuxième composante de u."
   ]
  },
  {
   "cell_type": "code",
   "execution_count": 29,
   "metadata": {
    "collapsed": false,
    "scrolled": true
   },
   "outputs": [
    {
     "data": {
      "text/plain": [
       "523.52283429184763"
      ]
     },
     "execution_count": 29,
     "metadata": {},
     "output_type": "execute_result"
    }
   ],
   "source": [
    "u[50,2]"
   ]
  },
  {
   "cell_type": "markdown",
   "metadata": {},
   "source": [
    "### What is the rocket's maximum altitude during flight (in meters)? At what time (in seconds) does this occur?"
   ]
  },
  {
   "cell_type": "code",
   "execution_count": 30,
   "metadata": {
    "collapsed": false
   },
   "outputs": [
    {
     "name": "stdout",
     "output_type": "stream",
     "text": [
      "1334.18294543\n"
     ]
    }
   ],
   "source": [
    "p = max(u[:,2])\n",
    "print(p)"
   ]
  },
  {
   "cell_type": "code",
   "execution_count": 49,
   "metadata": {
    "collapsed": false
   },
   "outputs": [],
   "source": [
    "?numpy.where"
   ]
  },
  {
   "cell_type": "code",
   "execution_count": 31,
   "metadata": {
    "collapsed": false,
    "scrolled": true
   },
   "outputs": [
    {
     "name": "stdout",
     "output_type": "stream",
     "text": [
      "[157]\n"
     ]
    },
    {
     "data": {
      "text/plain": [
       "15.700000000000001"
      ]
     },
     "execution_count": 31,
     "metadata": {},
     "output_type": "execute_result"
    }
   ],
   "source": [
    "q = numpy.where(u[:,2]==p)[0]\n",
    "print(q)\n",
    "q[0]*dt"
   ]
  },
  {
   "cell_type": "markdown",
   "metadata": {},
   "source": [
    "### At what time (in seconds) does the rocket impact the ground? What is the velocity of the rocket (in msms) at time of impact?"
   ]
  },
  {
   "cell_type": "code",
   "execution_count": 35,
   "metadata": {
    "collapsed": false
   },
   "outputs": [
    {
     "name": "stdout",
     "output_type": "stream",
     "text": [
      "371\n",
      "6.13901004188\n",
      "0.0\n"
     ]
    }
   ],
   "source": [
    "print(index)\n",
    "print(u[370,2])\n",
    "print(u[371,2])"
   ]
  },
  {
   "cell_type": "code",
   "execution_count": 34,
   "metadata": {
    "collapsed": false
   },
   "outputs": [
    {
     "name": "stdout",
     "output_type": "stream",
     "text": [
      "-86.0068349838\n",
      "37.1\n"
     ]
    }
   ],
   "source": [
    "print(u[index,0])\n",
    "print(index*dt)"
   ]
  },
  {
   "cell_type": "code",
   "execution_count": null,
   "metadata": {
    "collapsed": true
   },
   "outputs": [],
   "source": []
  }
 ],
 "metadata": {
  "anaconda-cloud": {},
  "kernelspec": {
   "display_name": "Python [conda root]",
   "language": "python",
   "name": "conda-root-py"
  },
  "language_info": {
   "codemirror_mode": {
    "name": "ipython",
    "version": 3
   },
   "file_extension": ".py",
   "mimetype": "text/x-python",
   "name": "python",
   "nbconvert_exporter": "python",
   "pygments_lexer": "ipython3",
   "version": "3.5.2"
  }
 },
 "nbformat": 4,
 "nbformat_minor": 0
}
